{
 "cells": [
  {
   "cell_type": "code",
   "execution_count": 1,
   "metadata": {},
   "outputs": [
    {
     "name": "stderr",
     "output_type": "stream",
     "text": [
      "2022-06-25 11:52:26.107735: W tensorflow/stream_executor/platform/default/dso_loader.cc:64] Could not load dynamic library 'libcudart.so.11.0'; dlerror: libcudart.so.11.0: cannot open shared object file: No such file or directory\n",
      "2022-06-25 11:52:26.107762: I tensorflow/stream_executor/cuda/cudart_stub.cc:29] Ignore above cudart dlerror if you do not have a GPU set up on your machine.\n"
     ]
    }
   ],
   "source": [
    "import numpy as np\n",
    "import pandas as pd\n",
    "import seaborn as sns\n",
    "import matplotlib.pyplot as plt\n",
    "import tensorflow as tf\n"
   ]
  },
  {
   "cell_type": "code",
   "execution_count": 2,
   "metadata": {},
   "outputs": [],
   "source": [
    "from tensorflow.keras.models import Sequential\n",
    "from tensorflow.keras.layers import Dense\n",
    "from tensorflow.keras.losses import BinaryCrossentropy"
   ]
  },
  {
   "cell_type": "code",
   "execution_count": 3,
   "metadata": {},
   "outputs": [],
   "source": [
    "train = pd.read_csv('../titanic-raw/train.csv')\n",
    "test = pd.read_csv('../titanic-raw/test.csv')\n"
   ]
  },
  {
   "cell_type": "code",
   "execution_count": 4,
   "metadata": {},
   "outputs": [
    {
     "data": {
      "text/html": [
       "<div>\n",
       "<style scoped>\n",
       "    .dataframe tbody tr th:only-of-type {\n",
       "        vertical-align: middle;\n",
       "    }\n",
       "\n",
       "    .dataframe tbody tr th {\n",
       "        vertical-align: top;\n",
       "    }\n",
       "\n",
       "    .dataframe thead th {\n",
       "        text-align: right;\n",
       "    }\n",
       "</style>\n",
       "<table border=\"1\" class=\"dataframe\">\n",
       "  <thead>\n",
       "    <tr style=\"text-align: right;\">\n",
       "      <th></th>\n",
       "      <th>PassengerId</th>\n",
       "      <th>Survived</th>\n",
       "      <th>Pclass</th>\n",
       "      <th>Name</th>\n",
       "      <th>Sex</th>\n",
       "      <th>Age</th>\n",
       "      <th>SibSp</th>\n",
       "      <th>Parch</th>\n",
       "      <th>Ticket</th>\n",
       "      <th>Fare</th>\n",
       "      <th>Cabin</th>\n",
       "      <th>Embarked</th>\n",
       "    </tr>\n",
       "  </thead>\n",
       "  <tbody>\n",
       "    <tr>\n",
       "      <th>0</th>\n",
       "      <td>1</td>\n",
       "      <td>0</td>\n",
       "      <td>3</td>\n",
       "      <td>Braund, Mr. Owen Harris</td>\n",
       "      <td>male</td>\n",
       "      <td>22.0</td>\n",
       "      <td>1</td>\n",
       "      <td>0</td>\n",
       "      <td>A/5 21171</td>\n",
       "      <td>7.2500</td>\n",
       "      <td>NaN</td>\n",
       "      <td>S</td>\n",
       "    </tr>\n",
       "    <tr>\n",
       "      <th>1</th>\n",
       "      <td>2</td>\n",
       "      <td>1</td>\n",
       "      <td>1</td>\n",
       "      <td>Cumings, Mrs. John Bradley (Florence Briggs Th...</td>\n",
       "      <td>female</td>\n",
       "      <td>38.0</td>\n",
       "      <td>1</td>\n",
       "      <td>0</td>\n",
       "      <td>PC 17599</td>\n",
       "      <td>71.2833</td>\n",
       "      <td>C85</td>\n",
       "      <td>C</td>\n",
       "    </tr>\n",
       "    <tr>\n",
       "      <th>2</th>\n",
       "      <td>3</td>\n",
       "      <td>1</td>\n",
       "      <td>3</td>\n",
       "      <td>Heikkinen, Miss. Laina</td>\n",
       "      <td>female</td>\n",
       "      <td>26.0</td>\n",
       "      <td>0</td>\n",
       "      <td>0</td>\n",
       "      <td>STON/O2. 3101282</td>\n",
       "      <td>7.9250</td>\n",
       "      <td>NaN</td>\n",
       "      <td>S</td>\n",
       "    </tr>\n",
       "    <tr>\n",
       "      <th>3</th>\n",
       "      <td>4</td>\n",
       "      <td>1</td>\n",
       "      <td>1</td>\n",
       "      <td>Futrelle, Mrs. Jacques Heath (Lily May Peel)</td>\n",
       "      <td>female</td>\n",
       "      <td>35.0</td>\n",
       "      <td>1</td>\n",
       "      <td>0</td>\n",
       "      <td>113803</td>\n",
       "      <td>53.1000</td>\n",
       "      <td>C123</td>\n",
       "      <td>S</td>\n",
       "    </tr>\n",
       "    <tr>\n",
       "      <th>4</th>\n",
       "      <td>5</td>\n",
       "      <td>0</td>\n",
       "      <td>3</td>\n",
       "      <td>Allen, Mr. William Henry</td>\n",
       "      <td>male</td>\n",
       "      <td>35.0</td>\n",
       "      <td>0</td>\n",
       "      <td>0</td>\n",
       "      <td>373450</td>\n",
       "      <td>8.0500</td>\n",
       "      <td>NaN</td>\n",
       "      <td>S</td>\n",
       "    </tr>\n",
       "  </tbody>\n",
       "</table>\n",
       "</div>"
      ],
      "text/plain": [
       "   PassengerId  Survived  Pclass  \\\n",
       "0            1         0       3   \n",
       "1            2         1       1   \n",
       "2            3         1       3   \n",
       "3            4         1       1   \n",
       "4            5         0       3   \n",
       "\n",
       "                                                Name     Sex   Age  SibSp  \\\n",
       "0                            Braund, Mr. Owen Harris    male  22.0      1   \n",
       "1  Cumings, Mrs. John Bradley (Florence Briggs Th...  female  38.0      1   \n",
       "2                             Heikkinen, Miss. Laina  female  26.0      0   \n",
       "3       Futrelle, Mrs. Jacques Heath (Lily May Peel)  female  35.0      1   \n",
       "4                           Allen, Mr. William Henry    male  35.0      0   \n",
       "\n",
       "   Parch            Ticket     Fare Cabin Embarked  \n",
       "0      0         A/5 21171   7.2500   NaN        S  \n",
       "1      0          PC 17599  71.2833   C85        C  \n",
       "2      0  STON/O2. 3101282   7.9250   NaN        S  \n",
       "3      0            113803  53.1000  C123        S  \n",
       "4      0            373450   8.0500   NaN        S  "
      ]
     },
     "execution_count": 4,
     "metadata": {},
     "output_type": "execute_result"
    }
   ],
   "source": [
    "train.head()\n"
   ]
  },
  {
   "cell_type": "code",
   "execution_count": 5,
   "metadata": {},
   "outputs": [
    {
     "data": {
      "text/html": [
       "<div>\n",
       "<style scoped>\n",
       "    .dataframe tbody tr th:only-of-type {\n",
       "        vertical-align: middle;\n",
       "    }\n",
       "\n",
       "    .dataframe tbody tr th {\n",
       "        vertical-align: top;\n",
       "    }\n",
       "\n",
       "    .dataframe thead th {\n",
       "        text-align: right;\n",
       "    }\n",
       "</style>\n",
       "<table border=\"1\" class=\"dataframe\">\n",
       "  <thead>\n",
       "    <tr style=\"text-align: right;\">\n",
       "      <th></th>\n",
       "      <th>PassengerId</th>\n",
       "      <th>Pclass</th>\n",
       "      <th>Name</th>\n",
       "      <th>Sex</th>\n",
       "      <th>Age</th>\n",
       "      <th>SibSp</th>\n",
       "      <th>Parch</th>\n",
       "      <th>Ticket</th>\n",
       "      <th>Fare</th>\n",
       "      <th>Cabin</th>\n",
       "      <th>Embarked</th>\n",
       "    </tr>\n",
       "  </thead>\n",
       "  <tbody>\n",
       "    <tr>\n",
       "      <th>0</th>\n",
       "      <td>892</td>\n",
       "      <td>3</td>\n",
       "      <td>Kelly, Mr. James</td>\n",
       "      <td>male</td>\n",
       "      <td>34.5</td>\n",
       "      <td>0</td>\n",
       "      <td>0</td>\n",
       "      <td>330911</td>\n",
       "      <td>7.8292</td>\n",
       "      <td>NaN</td>\n",
       "      <td>Q</td>\n",
       "    </tr>\n",
       "    <tr>\n",
       "      <th>1</th>\n",
       "      <td>893</td>\n",
       "      <td>3</td>\n",
       "      <td>Wilkes, Mrs. James (Ellen Needs)</td>\n",
       "      <td>female</td>\n",
       "      <td>47.0</td>\n",
       "      <td>1</td>\n",
       "      <td>0</td>\n",
       "      <td>363272</td>\n",
       "      <td>7.0000</td>\n",
       "      <td>NaN</td>\n",
       "      <td>S</td>\n",
       "    </tr>\n",
       "    <tr>\n",
       "      <th>2</th>\n",
       "      <td>894</td>\n",
       "      <td>2</td>\n",
       "      <td>Myles, Mr. Thomas Francis</td>\n",
       "      <td>male</td>\n",
       "      <td>62.0</td>\n",
       "      <td>0</td>\n",
       "      <td>0</td>\n",
       "      <td>240276</td>\n",
       "      <td>9.6875</td>\n",
       "      <td>NaN</td>\n",
       "      <td>Q</td>\n",
       "    </tr>\n",
       "    <tr>\n",
       "      <th>3</th>\n",
       "      <td>895</td>\n",
       "      <td>3</td>\n",
       "      <td>Wirz, Mr. Albert</td>\n",
       "      <td>male</td>\n",
       "      <td>27.0</td>\n",
       "      <td>0</td>\n",
       "      <td>0</td>\n",
       "      <td>315154</td>\n",
       "      <td>8.6625</td>\n",
       "      <td>NaN</td>\n",
       "      <td>S</td>\n",
       "    </tr>\n",
       "    <tr>\n",
       "      <th>4</th>\n",
       "      <td>896</td>\n",
       "      <td>3</td>\n",
       "      <td>Hirvonen, Mrs. Alexander (Helga E Lindqvist)</td>\n",
       "      <td>female</td>\n",
       "      <td>22.0</td>\n",
       "      <td>1</td>\n",
       "      <td>1</td>\n",
       "      <td>3101298</td>\n",
       "      <td>12.2875</td>\n",
       "      <td>NaN</td>\n",
       "      <td>S</td>\n",
       "    </tr>\n",
       "  </tbody>\n",
       "</table>\n",
       "</div>"
      ],
      "text/plain": [
       "   PassengerId  Pclass                                          Name     Sex  \\\n",
       "0          892       3                              Kelly, Mr. James    male   \n",
       "1          893       3              Wilkes, Mrs. James (Ellen Needs)  female   \n",
       "2          894       2                     Myles, Mr. Thomas Francis    male   \n",
       "3          895       3                              Wirz, Mr. Albert    male   \n",
       "4          896       3  Hirvonen, Mrs. Alexander (Helga E Lindqvist)  female   \n",
       "\n",
       "    Age  SibSp  Parch   Ticket     Fare Cabin Embarked  \n",
       "0  34.5      0      0   330911   7.8292   NaN        Q  \n",
       "1  47.0      1      0   363272   7.0000   NaN        S  \n",
       "2  62.0      0      0   240276   9.6875   NaN        Q  \n",
       "3  27.0      0      0   315154   8.6625   NaN        S  \n",
       "4  22.0      1      1  3101298  12.2875   NaN        S  "
      ]
     },
     "execution_count": 5,
     "metadata": {},
     "output_type": "execute_result"
    }
   ],
   "source": [
    "test.head()"
   ]
  },
  {
   "cell_type": "code",
   "execution_count": 6,
   "metadata": {},
   "outputs": [
    {
     "data": {
      "text/plain": [
       "((891, 12), (418, 11))"
      ]
     },
     "execution_count": 6,
     "metadata": {},
     "output_type": "execute_result"
    }
   ],
   "source": [
    "train.shape , test.shape"
   ]
  },
  {
   "cell_type": "code",
   "execution_count": 7,
   "metadata": {},
   "outputs": [
    {
     "name": "stdout",
     "output_type": "stream",
     "text": [
      "['PassengerId', 'Survived', 'Pclass', 'Name', 'Sex', 'Age', 'SibSp', 'Parch', 'Ticket', 'Fare', 'Cabin', 'Embarked']\n"
     ]
    }
   ],
   "source": [
    "print(list(train.columns))"
   ]
  },
  {
   "cell_type": "code",
   "execution_count": 8,
   "metadata": {},
   "outputs": [
    {
     "data": {
      "text/plain": [
       "PassengerId      int64\n",
       "Survived         int64\n",
       "Pclass           int64\n",
       "Name            object\n",
       "Sex             object\n",
       "Age            float64\n",
       "SibSp            int64\n",
       "Parch            int64\n",
       "Ticket          object\n",
       "Fare           float64\n",
       "Cabin           object\n",
       "Embarked        object\n",
       "dtype: object"
      ]
     },
     "execution_count": 8,
     "metadata": {},
     "output_type": "execute_result"
    }
   ],
   "source": [
    "train.dtypes"
   ]
  },
  {
   "cell_type": "code",
   "execution_count": 9,
   "metadata": {},
   "outputs": [
    {
     "data": {
      "text/html": [
       "<div>\n",
       "<style scoped>\n",
       "    .dataframe tbody tr th:only-of-type {\n",
       "        vertical-align: middle;\n",
       "    }\n",
       "\n",
       "    .dataframe tbody tr th {\n",
       "        vertical-align: top;\n",
       "    }\n",
       "\n",
       "    .dataframe thead th {\n",
       "        text-align: right;\n",
       "    }\n",
       "</style>\n",
       "<table border=\"1\" class=\"dataframe\">\n",
       "  <thead>\n",
       "    <tr style=\"text-align: right;\">\n",
       "      <th></th>\n",
       "      <th>PassengerId</th>\n",
       "      <th>Survived</th>\n",
       "      <th>Pclass</th>\n",
       "      <th>Age</th>\n",
       "      <th>SibSp</th>\n",
       "      <th>Parch</th>\n",
       "      <th>Fare</th>\n",
       "    </tr>\n",
       "  </thead>\n",
       "  <tbody>\n",
       "    <tr>\n",
       "      <th>count</th>\n",
       "      <td>891.000000</td>\n",
       "      <td>891.000000</td>\n",
       "      <td>891.000000</td>\n",
       "      <td>714.000000</td>\n",
       "      <td>891.000000</td>\n",
       "      <td>891.000000</td>\n",
       "      <td>891.000000</td>\n",
       "    </tr>\n",
       "    <tr>\n",
       "      <th>mean</th>\n",
       "      <td>446.000000</td>\n",
       "      <td>0.383838</td>\n",
       "      <td>2.308642</td>\n",
       "      <td>29.699118</td>\n",
       "      <td>0.523008</td>\n",
       "      <td>0.381594</td>\n",
       "      <td>32.204208</td>\n",
       "    </tr>\n",
       "    <tr>\n",
       "      <th>std</th>\n",
       "      <td>257.353842</td>\n",
       "      <td>0.486592</td>\n",
       "      <td>0.836071</td>\n",
       "      <td>14.526497</td>\n",
       "      <td>1.102743</td>\n",
       "      <td>0.806057</td>\n",
       "      <td>49.693429</td>\n",
       "    </tr>\n",
       "    <tr>\n",
       "      <th>min</th>\n",
       "      <td>1.000000</td>\n",
       "      <td>0.000000</td>\n",
       "      <td>1.000000</td>\n",
       "      <td>0.420000</td>\n",
       "      <td>0.000000</td>\n",
       "      <td>0.000000</td>\n",
       "      <td>0.000000</td>\n",
       "    </tr>\n",
       "    <tr>\n",
       "      <th>25%</th>\n",
       "      <td>223.500000</td>\n",
       "      <td>0.000000</td>\n",
       "      <td>2.000000</td>\n",
       "      <td>20.125000</td>\n",
       "      <td>0.000000</td>\n",
       "      <td>0.000000</td>\n",
       "      <td>7.910400</td>\n",
       "    </tr>\n",
       "    <tr>\n",
       "      <th>50%</th>\n",
       "      <td>446.000000</td>\n",
       "      <td>0.000000</td>\n",
       "      <td>3.000000</td>\n",
       "      <td>28.000000</td>\n",
       "      <td>0.000000</td>\n",
       "      <td>0.000000</td>\n",
       "      <td>14.454200</td>\n",
       "    </tr>\n",
       "    <tr>\n",
       "      <th>75%</th>\n",
       "      <td>668.500000</td>\n",
       "      <td>1.000000</td>\n",
       "      <td>3.000000</td>\n",
       "      <td>38.000000</td>\n",
       "      <td>1.000000</td>\n",
       "      <td>0.000000</td>\n",
       "      <td>31.000000</td>\n",
       "    </tr>\n",
       "    <tr>\n",
       "      <th>max</th>\n",
       "      <td>891.000000</td>\n",
       "      <td>1.000000</td>\n",
       "      <td>3.000000</td>\n",
       "      <td>80.000000</td>\n",
       "      <td>8.000000</td>\n",
       "      <td>6.000000</td>\n",
       "      <td>512.329200</td>\n",
       "    </tr>\n",
       "  </tbody>\n",
       "</table>\n",
       "</div>"
      ],
      "text/plain": [
       "       PassengerId    Survived      Pclass         Age       SibSp  \\\n",
       "count   891.000000  891.000000  891.000000  714.000000  891.000000   \n",
       "mean    446.000000    0.383838    2.308642   29.699118    0.523008   \n",
       "std     257.353842    0.486592    0.836071   14.526497    1.102743   \n",
       "min       1.000000    0.000000    1.000000    0.420000    0.000000   \n",
       "25%     223.500000    0.000000    2.000000   20.125000    0.000000   \n",
       "50%     446.000000    0.000000    3.000000   28.000000    0.000000   \n",
       "75%     668.500000    1.000000    3.000000   38.000000    1.000000   \n",
       "max     891.000000    1.000000    3.000000   80.000000    8.000000   \n",
       "\n",
       "            Parch        Fare  \n",
       "count  891.000000  891.000000  \n",
       "mean     0.381594   32.204208  \n",
       "std      0.806057   49.693429  \n",
       "min      0.000000    0.000000  \n",
       "25%      0.000000    7.910400  \n",
       "50%      0.000000   14.454200  \n",
       "75%      0.000000   31.000000  \n",
       "max      6.000000  512.329200  "
      ]
     },
     "execution_count": 9,
     "metadata": {},
     "output_type": "execute_result"
    }
   ],
   "source": [
    "train.describe()\n"
   ]
  },
  {
   "cell_type": "code",
   "execution_count": 10,
   "metadata": {},
   "outputs": [
    {
     "data": {
      "text/plain": [
       "PassengerId      0\n",
       "Survived         0\n",
       "Pclass           0\n",
       "Name             0\n",
       "Sex              0\n",
       "Age            177\n",
       "SibSp            0\n",
       "Parch            0\n",
       "Ticket           0\n",
       "Fare             0\n",
       "Cabin          687\n",
       "Embarked         2\n",
       "dtype: int64"
      ]
     },
     "execution_count": 10,
     "metadata": {},
     "output_type": "execute_result"
    }
   ],
   "source": [
    "train.isnull().sum()"
   ]
  },
  {
   "cell_type": "code",
   "execution_count": 11,
   "metadata": {},
   "outputs": [
    {
     "data": {
      "text/plain": [
       "PassengerId      0\n",
       "Pclass           0\n",
       "Name             0\n",
       "Sex              0\n",
       "Age             86\n",
       "SibSp            0\n",
       "Parch            0\n",
       "Ticket           0\n",
       "Fare             1\n",
       "Cabin          327\n",
       "Embarked         0\n",
       "dtype: int64"
      ]
     },
     "execution_count": 11,
     "metadata": {},
     "output_type": "execute_result"
    }
   ],
   "source": [
    "test.isnull().sum()"
   ]
  },
  {
   "cell_type": "code",
   "execution_count": 12,
   "metadata": {},
   "outputs": [
    {
     "data": {
      "text/plain": [
       "PassengerId    0\n",
       "Survived       0\n",
       "Pclass         0\n",
       "Name           0\n",
       "Sex            0\n",
       "Age            0\n",
       "SibSp          0\n",
       "Parch          0\n",
       "Ticket         0\n",
       "Fare           0\n",
       "Cabin          0\n",
       "Embarked       0\n",
       "dtype: int64"
      ]
     },
     "execution_count": 12,
     "metadata": {},
     "output_type": "execute_result"
    }
   ],
   "source": [
    "#fixing train_data\n",
    "\n",
    "train2 = train.copy()\n",
    "train2['Age'] = train2['Age'].replace(np.NAN, train2['Age'].mean())\n",
    "train['Age'].mean() , train2['Age'].mean()\n",
    "train2['Cabin'] = train2['Cabin'].replace(np.NAN, 'XX')\n",
    "train2['Cabin'].value_counts()\n",
    "train2['Embarked'] = train2['Embarked'].replace(np.NAN, 'YY')\n",
    "train2['Embarked'].value_counts()\n",
    "train2.isnull().sum()\n"
   ]
  },
  {
   "cell_type": "code",
   "execution_count": 13,
   "metadata": {},
   "outputs": [
    {
     "data": {
      "text/plain": [
       "PassengerId    0\n",
       "Pclass         0\n",
       "Name           0\n",
       "Sex            0\n",
       "Age            0\n",
       "SibSp          0\n",
       "Parch          0\n",
       "Ticket         0\n",
       "Fare           0\n",
       "Cabin          0\n",
       "Embarked       0\n",
       "dtype: int64"
      ]
     },
     "execution_count": 13,
     "metadata": {},
     "output_type": "execute_result"
    }
   ],
   "source": [
    "#cleaning test data\n",
    "\n",
    "test2 = test.copy()\n",
    "test2['Age'] = test2['Age'].replace(np.NAN, test2['Age'].mean())\n",
    "test['Age'].mean() , test2['Age'].mean()\n",
    "test2['Cabin'] = test2['Cabin'].replace(np.NAN, 'XX')\n",
    "test2['Cabin'].value_counts(dropna = False)\n",
    "test2['Fare'] = test2['Fare'].replace(np.NAN, test2['Fare'].mean())\n",
    "test['Fare'].mean() , test2['Fare'].mean()\n",
    "test2.isnull().sum()"
   ]
  },
  {
   "cell_type": "code",
   "execution_count": 14,
   "metadata": {},
   "outputs": [],
   "source": [
    "trainLM = train2.copy()\n",
    "testLM = test2.copy()"
   ]
  },
  {
   "cell_type": "code",
   "execution_count": 15,
   "metadata": {},
   "outputs": [
    {
     "name": "stdout",
     "output_type": "stream",
     "text": [
      "0    577\n",
      "1    314\n",
      "Name: Sex, dtype: int64\n",
      "     Survived  Pclass  Sex        Age  SibSp  Parch     Fare\n",
      "0           0       3    0  22.000000      1      0   7.2500\n",
      "1           1       1    1  38.000000      1      0  71.2833\n",
      "2           1       3    1  26.000000      0      0   7.9250\n",
      "3           1       1    1  35.000000      1      0  53.1000\n",
      "4           0       3    0  35.000000      0      0   8.0500\n",
      "..        ...     ...  ...        ...    ...    ...      ...\n",
      "886         0       2    0  27.000000      0      0  13.0000\n",
      "887         1       1    1  19.000000      0      0  30.0000\n",
      "888         0       3    1  29.699118      1      2  23.4500\n",
      "889         1       1    0  26.000000      0      0  30.0000\n",
      "890         0       3    0  32.000000      0      0   7.7500\n",
      "\n",
      "[891 rows x 7 columns]\n"
     ]
    }
   ],
   "source": [
    "trainLM.Sex.value_counts()\n",
    "\n",
    "m1 = {'male':0, 'female':1}\n",
    "trainLM['Sex'] = trainLM['Sex'].map(m1)\n",
    "testLM['Sex'] = testLM['Sex'].map(m1) \n",
    "\n",
    "# note : running this snippet 2nd time creates NaN value\n",
    "print(trainLM['Sex'].value_counts())\n",
    "testLM['Sex'].value_counts()\n",
    "trainLM.dtypes\n",
    "testLM.dtypes\n",
    "trainLM2 = trainLM.iloc[:, [1,2,4,5,6,7,9,]]\n",
    "print(trainLM2)"
   ]
  },
  {
   "cell_type": "code",
   "execution_count": 16,
   "metadata": {},
   "outputs": [
    {
     "data": {
      "text/plain": [
       "Survived    0\n",
       "Pclass      0\n",
       "Sex         0\n",
       "Age         0\n",
       "SibSp       0\n",
       "Parch       0\n",
       "Fare        0\n",
       "dtype: int64"
      ]
     },
     "execution_count": 16,
     "metadata": {},
     "output_type": "execute_result"
    }
   ],
   "source": [
    "trainLM2.isnull().sum()"
   ]
  },
  {
   "cell_type": "code",
   "execution_count": 17,
   "metadata": {},
   "outputs": [],
   "source": [
    "testLM2 = testLM.iloc[:, [1,3,4,5,6,8]]\n"
   ]
  },
  {
   "cell_type": "code",
   "execution_count": 18,
   "metadata": {},
   "outputs": [
    {
     "name": "stderr",
     "output_type": "stream",
     "text": [
      "2022-06-25 11:52:27.632366: W tensorflow/stream_executor/platform/default/dso_loader.cc:64] Could not load dynamic library 'libcuda.so.1'; dlerror: libcuda.so.1: cannot open shared object file: No such file or directory\n",
      "2022-06-25 11:52:27.632393: W tensorflow/stream_executor/cuda/cuda_driver.cc:269] failed call to cuInit: UNKNOWN ERROR (303)\n",
      "2022-06-25 11:52:27.632417: I tensorflow/stream_executor/cuda/cuda_diagnostics.cc:156] kernel driver does not appear to be running on this host (CoderCatA5Pop): /proc/driver/nvidia/version does not exist\n",
      "2022-06-25 11:52:27.632761: I tensorflow/core/platform/cpu_feature_guard.cc:151] This TensorFlow binary is optimized with oneAPI Deep Neural Network Library (oneDNN) to use the following CPU instructions in performance-critical operations:  AVX2 FMA\n",
      "To enable them in other operations, rebuild TensorFlow with the appropriate compiler flags.\n"
     ]
    }
   ],
   "source": [
    "#K time to prep train data for neural network\n",
    "X=tf.convert_to_tensor(trainLM2.drop('Survived',axis=1))\n",
    "Y=tf.convert_to_tensor(trainLM2['Survived'])\n"
   ]
  },
  {
   "cell_type": "code",
   "execution_count": 19,
   "metadata": {},
   "outputs": [
    {
     "data": {
      "text/plain": [
       "tensorflow.python.framework.ops.EagerTensor"
      ]
     },
     "execution_count": 19,
     "metadata": {},
     "output_type": "execute_result"
    }
   ],
   "source": [
    "type(X)"
   ]
  },
  {
   "cell_type": "code",
   "execution_count": 20,
   "metadata": {},
   "outputs": [
    {
     "data": {
      "text/plain": [
       "<tf.Tensor: shape=(891, 6), dtype=float64, numpy=\n",
       "array([[ 3.        ,  0.        , 22.        ,  1.        ,  0.        ,\n",
       "         7.25      ],\n",
       "       [ 1.        ,  1.        , 38.        ,  1.        ,  0.        ,\n",
       "        71.2833    ],\n",
       "       [ 3.        ,  1.        , 26.        ,  0.        ,  0.        ,\n",
       "         7.925     ],\n",
       "       ...,\n",
       "       [ 3.        ,  1.        , 29.69911765,  1.        ,  2.        ,\n",
       "        23.45      ],\n",
       "       [ 1.        ,  0.        , 26.        ,  0.        ,  0.        ,\n",
       "        30.        ],\n",
       "       [ 3.        ,  0.        , 32.        ,  0.        ,  0.        ,\n",
       "         7.75      ]])>"
      ]
     },
     "execution_count": 20,
     "metadata": {},
     "output_type": "execute_result"
    }
   ],
   "source": [
    "X"
   ]
  },
  {
   "cell_type": "code",
   "execution_count": 21,
   "metadata": {},
   "outputs": [],
   "source": [
    "normalizer = tf.keras.layers.Normalization(axis=-1)\n",
    "normalizer.adapt(X)\n"
   ]
  },
  {
   "cell_type": "code",
   "execution_count": 22,
   "metadata": {},
   "outputs": [],
   "source": [
    "#making our model\n",
    "\n",
    "model=Sequential([\n",
    "      normalizer,\n",
    "      tf.keras.layers.Input(shape=(6,)),\n",
    "      Dense(units=25,activation=\"relu\"),\n",
    "      Dense(units=15,activation=\"relu\"),\n",
    "      Dense(units=5,activation=\"relu\"),\n",
    "      Dense(units=1,activation=\"sigmoid\"),\n",
    "      \n",
    "\n",
    "  ])\n",
    "model.compile(loss=BinaryCrossentropy(),\n",
    "    optimizer=tf.keras.optimizers.Adam(learning_rate=0.0001),\n",
    "    metrics=[\n",
    "        tf.keras.metrics.BinaryAccuracy(name='accuracy')\n",
    "    ])\n"
   ]
  },
  {
   "cell_type": "code",
   "execution_count": 23,
   "metadata": {},
   "outputs": [],
   "source": [
    "import gc\n",
    "class EvalCallback(tf.keras.callbacks.Callback):\n",
    "    def __init__(self):\n",
    "       pass\n",
    "\n",
    "    def on_epoch_end(self, epoch: int, logs=None):\n",
    "        gc.collect()\n",
    "        tf.keras.backend.clear_session()\n",
    "    \n",
    "        "
   ]
  },
  {
   "cell_type": "code",
   "execution_count": 24,
   "metadata": {},
   "outputs": [
    {
     "data": {
      "text/plain": [
       "<keras.callbacks.History at 0x7fbc60b99a50>"
      ]
     },
     "execution_count": 24,
     "metadata": {},
     "output_type": "execute_result"
    }
   ],
   "source": [
    "model.fit(X,Y,epochs=100000,verbose=0)"
   ]
  },
  {
   "cell_type": "code",
   "execution_count": 25,
   "metadata": {},
   "outputs": [],
   "source": [
    "gc.collect()\n",
    "tf.keras.backend.clear_session()"
   ]
  },
  {
   "cell_type": "code",
   "execution_count": 26,
   "metadata": {},
   "outputs": [],
   "source": [
    "X_test=tf.convert_to_tensor(testLM2)\n",
    "Y_pred=model.predict(X_test)\n"
   ]
  },
  {
   "cell_type": "code",
   "execution_count": 27,
   "metadata": {},
   "outputs": [
    {
     "data": {
      "text/plain": [
       "(418, 1)"
      ]
     },
     "execution_count": 27,
     "metadata": {},
     "output_type": "execute_result"
    }
   ],
   "source": [
    "Y_pred.shape"
   ]
  },
  {
   "cell_type": "code",
   "execution_count": 28,
   "metadata": {},
   "outputs": [
    {
     "data": {
      "text/plain": [
       "array([[9.10714269e-03],\n",
       "       [4.24554012e-12],\n",
       "       [2.29208469e-02],\n",
       "       [1.81737930e-01],\n",
       "       [9.99994576e-01],\n",
       "       [9.89074111e-02],\n",
       "       [2.58623242e-01],\n",
       "       [3.45339208e-15],\n",
       "       [4.78356898e-01],\n",
       "       [1.59230828e-03],\n",
       "       [5.74368536e-02],\n",
       "       [3.20393652e-01],\n",
       "       [1.00000000e+00],\n",
       "       [0.00000000e+00],\n",
       "       [1.00000000e+00],\n",
       "       [9.99917626e-01],\n",
       "       [2.65985847e-01],\n",
       "       [4.40859497e-02],\n",
       "       [4.01534089e-06],\n",
       "       [1.38806291e-08],\n",
       "       [4.89321066e-15],\n",
       "       [1.00000000e+00],\n",
       "       [1.00000000e+00],\n",
       "       [1.00000000e+00],\n",
       "       [1.00000000e+00],\n",
       "       [7.22262549e-30],\n",
       "       [1.00000000e+00],\n",
       "       [7.79809356e-02],\n",
       "       [5.73586822e-01],\n",
       "       [7.38716424e-02],\n",
       "       [1.74515357e-38],\n",
       "       [3.52795448e-32],\n",
       "       [9.95010138e-04],\n",
       "       [1.76047683e-02],\n",
       "       [7.13442028e-01],\n",
       "       [7.80641735e-02],\n",
       "       [1.06708825e-01],\n",
       "       [3.27853531e-01],\n",
       "       [5.67526519e-02],\n",
       "       [9.21296954e-01],\n",
       "       [4.53096618e-18],\n",
       "       [1.38654411e-02],\n",
       "       [5.69985807e-02],\n",
       "       [1.00000000e+00],\n",
       "       [1.00000000e+00],\n",
       "       [1.32946342e-01],\n",
       "       [1.60524666e-01],\n",
       "       [4.00182605e-02],\n",
       "       [1.00000000e+00],\n",
       "       [2.34224686e-07],\n",
       "       [1.00000000e+00],\n",
       "       [3.41016054e-03],\n",
       "       [1.00000000e+00],\n",
       "       [2.85562987e-06],\n",
       "       [3.33541334e-02],\n",
       "       [0.00000000e+00],\n",
       "       [1.31634176e-02],\n",
       "       [1.52929395e-01],\n",
       "       [1.71062314e-11],\n",
       "       [1.00000000e+00],\n",
       "       [6.63216412e-02],\n",
       "       [3.28373909e-01],\n",
       "       [7.27048516e-02],\n",
       "       [7.29760468e-01],\n",
       "       [1.00000000e+00],\n",
       "       [1.00000000e+00],\n",
       "       [5.40580332e-01],\n",
       "       [1.49741769e-02],\n",
       "       [9.75844026e-01],\n",
       "       [0.00000000e+00],\n",
       "       [3.37365240e-01],\n",
       "       [3.00332308e-02],\n",
       "       [6.58048391e-01],\n",
       "       [8.14290226e-01],\n",
       "       [1.00000000e+00],\n",
       "       [0.00000000e+00],\n",
       "       [8.34499598e-02],\n",
       "       [1.00000000e+00],\n",
       "       [3.27755392e-01],\n",
       "       [3.37365240e-01],\n",
       "       [1.00000000e+00],\n",
       "       [6.75165366e-20],\n",
       "       [1.00000000e+00],\n",
       "       [5.74368536e-02],\n",
       "       [6.66767359e-04],\n",
       "       [1.68363587e-12],\n",
       "       [7.64037967e-01],\n",
       "       [5.56803823e-01],\n",
       "       [9.94591713e-02],\n",
       "       [1.00000000e+00],\n",
       "       [2.16910928e-01],\n",
       "       [4.25949693e-02],\n",
       "       [1.00000000e+00],\n",
       "       [8.34499598e-02],\n",
       "       [9.99994755e-01],\n",
       "       [1.42045259e-01],\n",
       "       [1.00000000e+00],\n",
       "       [1.52769327e-01],\n",
       "       [3.11490595e-01],\n",
       "       [1.90678239e-03],\n",
       "       [1.00000000e+00],\n",
       "       [7.84203712e-06],\n",
       "       [4.00182605e-02],\n",
       "       [2.00723559e-01],\n",
       "       [9.99999762e-01],\n",
       "       [2.51887788e-10],\n",
       "       [3.13587189e-02],\n",
       "       [4.00182605e-02],\n",
       "       [3.38227868e-01],\n",
       "       [6.12217188e-03],\n",
       "       [4.27341461e-03],\n",
       "       [9.92101133e-02],\n",
       "       [1.00000000e+00],\n",
       "       [3.93907547e-01],\n",
       "       [1.00000000e+00],\n",
       "       [9.99409318e-01],\n",
       "       [3.38256061e-02],\n",
       "       [9.99999702e-01],\n",
       "       [1.00000000e+00],\n",
       "       [1.00000000e+00],\n",
       "       [1.00000000e+00],\n",
       "       [4.87418786e-12],\n",
       "       [1.00000000e+00],\n",
       "       [2.12342381e-01],\n",
       "       [4.00182605e-02],\n",
       "       [2.64769793e-03],\n",
       "       [4.69191074e-02],\n",
       "       [9.99983549e-01],\n",
       "       [4.55454111e-01],\n",
       "       [8.67730677e-02],\n",
       "       [3.82671416e-01],\n",
       "       [9.73492742e-01],\n",
       "       [3.09447953e-11],\n",
       "       [1.60309682e-11],\n",
       "       [1.13258272e-01],\n",
       "       [9.64419544e-02],\n",
       "       [2.98812002e-01],\n",
       "       [3.41935021e-07],\n",
       "       [3.36804122e-01],\n",
       "       [2.41319696e-27],\n",
       "       [0.00000000e+00],\n",
       "       [1.00000000e+00],\n",
       "       [7.27528093e-10],\n",
       "       [1.46753109e-07],\n",
       "       [4.71894115e-01],\n",
       "       [3.11789069e-24],\n",
       "       [2.92831115e-09],\n",
       "       [4.06110585e-02],\n",
       "       [1.38654411e-02],\n",
       "       [8.06740483e-18],\n",
       "       [1.00000000e+00],\n",
       "       [5.74368536e-02],\n",
       "       [1.16150692e-17],\n",
       "       [7.88799970e-10],\n",
       "       [0.00000000e+00],\n",
       "       [1.13377571e-01],\n",
       "       [1.00000000e+00],\n",
       "       [4.69006151e-01],\n",
       "       [4.71893638e-01],\n",
       "       [1.00000000e+00],\n",
       "       [9.96012986e-02],\n",
       "       [1.00000000e+00],\n",
       "       [9.86170053e-01],\n",
       "       [3.42601240e-02],\n",
       "       [1.54119104e-01],\n",
       "       [2.22811699e-02],\n",
       "       [5.38092445e-06],\n",
       "       [3.20981233e-18],\n",
       "       [1.00000000e+00],\n",
       "       [8.23129117e-02],\n",
       "       [3.46906483e-02],\n",
       "       [3.42807055e-01],\n",
       "       [6.90063357e-01],\n",
       "       [3.44389081e-02],\n",
       "       [1.50910432e-26],\n",
       "       [1.00000000e+00],\n",
       "       [1.00000000e+00],\n",
       "       [5.69995012e-19],\n",
       "       [1.00000000e+00],\n",
       "       [1.00000000e+00],\n",
       "       [3.27755392e-01],\n",
       "       [2.92633474e-02],\n",
       "       [1.00000000e+00],\n",
       "       [4.00182605e-02],\n",
       "       [1.00000000e+00],\n",
       "       [1.72495842e-04],\n",
       "       [1.00000000e+00],\n",
       "       [7.22290395e-07],\n",
       "       [0.00000000e+00],\n",
       "       [5.14162481e-02],\n",
       "       [3.15740705e-03],\n",
       "       [1.20657980e-02],\n",
       "       [1.39116347e-02],\n",
       "       [4.91304338e-01],\n",
       "       [1.00000000e+00],\n",
       "       [1.41364336e-03],\n",
       "       [9.24723387e-01],\n",
       "       [5.30641139e-01],\n",
       "       [2.43588383e-05],\n",
       "       [1.14112020e-01],\n",
       "       [9.84296083e-01],\n",
       "       [1.00000000e+00],\n",
       "       [1.00000000e+00],\n",
       "       [1.00000000e+00],\n",
       "       [1.40535672e-09],\n",
       "       [8.65885615e-03],\n",
       "       [7.75336325e-02],\n",
       "       [1.85021420e-07],\n",
       "       [1.00000000e+00],\n",
       "       [1.34958506e-01],\n",
       "       [3.39393296e-06],\n",
       "       [3.42990458e-02],\n",
       "       [9.06010844e-21],\n",
       "       [1.00000000e+00],\n",
       "       [5.34016165e-09],\n",
       "       [2.41537208e-07],\n",
       "       [9.83608365e-02],\n",
       "       [4.16218329e-13],\n",
       "       [1.00000000e+00],\n",
       "       [8.34499598e-02],\n",
       "       [9.68666315e-01],\n",
       "       [2.74771452e-02],\n",
       "       [9.99783754e-01],\n",
       "       [3.18132639e-02],\n",
       "       [1.38844252e-02],\n",
       "       [7.60012865e-03],\n",
       "       [6.86899126e-02],\n",
       "       [9.94591713e-02],\n",
       "       [8.56954921e-06],\n",
       "       [2.77984440e-02],\n",
       "       [3.71710848e-23],\n",
       "       [1.00000000e+00],\n",
       "       [1.16371781e-01],\n",
       "       [5.51414490e-02],\n",
       "       [2.83711529e-07],\n",
       "       [4.60339785e-02],\n",
       "       [3.49873993e-12],\n",
       "       [1.86491579e-01],\n",
       "       [1.00000000e+00],\n",
       "       [1.00000000e+00],\n",
       "       [9.99991179e-01],\n",
       "       [9.99995947e-01],\n",
       "       [8.25022340e-01],\n",
       "       [5.62785268e-02],\n",
       "       [1.24007463e-04],\n",
       "       [4.40222383e-01],\n",
       "       [1.00000000e+00],\n",
       "       [3.45214246e-29],\n",
       "       [1.00000000e+00],\n",
       "       [3.14225525e-01],\n",
       "       [1.00000000e+00],\n",
       "       [3.82055044e-02],\n",
       "       [1.00000000e+00],\n",
       "       [4.26566303e-02],\n",
       "       [1.35108829e-03],\n",
       "       [3.46907377e-02],\n",
       "       [4.00182605e-02],\n",
       "       [1.47275627e-01],\n",
       "       [1.00000000e+00],\n",
       "       [3.21954191e-02],\n",
       "       [3.40221007e-17],\n",
       "       [3.07618678e-02],\n",
       "       [1.00000000e+00],\n",
       "       [9.99726295e-01],\n",
       "       [1.74949557e-01],\n",
       "       [5.74368536e-02],\n",
       "       [3.14008134e-23],\n",
       "       [3.46906483e-02],\n",
       "       [1.06708825e-01],\n",
       "       [6.31588399e-02],\n",
       "       [6.32850503e-19],\n",
       "       [4.00182605e-02],\n",
       "       [1.00000000e+00],\n",
       "       [4.63244706e-01],\n",
       "       [3.44355404e-02],\n",
       "       [9.99992788e-01],\n",
       "       [7.34140713e-07],\n",
       "       [1.31290965e-18],\n",
       "       [6.57835305e-02],\n",
       "       [3.67760658e-04],\n",
       "       [8.25009942e-02],\n",
       "       [1.00000000e+00],\n",
       "       [9.94591713e-02],\n",
       "       [9.09775496e-03],\n",
       "       [1.00000000e+00],\n",
       "       [1.11006796e-02],\n",
       "       [3.44557762e-02],\n",
       "       [8.28236938e-02],\n",
       "       [3.44389081e-02],\n",
       "       [8.34499598e-02],\n",
       "       [3.09757002e-06],\n",
       "       [8.30749154e-01],\n",
       "       [3.44389081e-02],\n",
       "       [7.45710104e-15],\n",
       "       [6.90567493e-03],\n",
       "       [1.89460814e-01],\n",
       "       [1.00000000e+00],\n",
       "       [7.38716424e-02],\n",
       "       [3.04923808e-10],\n",
       "       [1.54877752e-01],\n",
       "       [2.89749235e-01],\n",
       "       [1.09791279e-01],\n",
       "       [4.60510840e-34],\n",
       "       [6.19495511e-02],\n",
       "       [9.94591713e-02],\n",
       "       [1.00000000e+00],\n",
       "       [9.99881864e-01],\n",
       "       [1.00000000e+00],\n",
       "       [2.17370871e-06],\n",
       "       [5.96165657e-04],\n",
       "       [9.67812538e-02],\n",
       "       [6.46313131e-02],\n",
       "       [3.47101688e-02],\n",
       "       [1.91646814e-03],\n",
       "       [1.00000000e+00],\n",
       "       [6.97793484e-01],\n",
       "       [1.09276525e-10],\n",
       "       [4.21640545e-01],\n",
       "       [2.64146388e-01],\n",
       "       [4.36620589e-33],\n",
       "       [2.00723559e-01],\n",
       "       [1.88177556e-01],\n",
       "       [3.41935021e-07],\n",
       "       [9.99014139e-01],\n",
       "       [1.00000000e+00],\n",
       "       [1.03028238e-01],\n",
       "       [1.00000000e+00],\n",
       "       [5.61356591e-21],\n",
       "       [4.69565392e-04],\n",
       "       [1.50293112e-04],\n",
       "       [9.99520659e-01],\n",
       "       [8.68708253e-01],\n",
       "       [3.44355404e-02],\n",
       "       [9.99985099e-01],\n",
       "       [2.59370744e-01],\n",
       "       [4.83110249e-02],\n",
       "       [5.81241250e-01],\n",
       "       [3.82029214e-25],\n",
       "       [1.05653060e-08],\n",
       "       [3.44389081e-02],\n",
       "       [1.41180724e-01],\n",
       "       [2.06619501e-01],\n",
       "       [0.00000000e+00],\n",
       "       [1.32429659e-01],\n",
       "       [9.82238770e-01],\n",
       "       [8.34217787e-01],\n",
       "       [3.41935021e-07],\n",
       "       [7.31847249e-05],\n",
       "       [9.31654398e-09],\n",
       "       [1.00000000e+00],\n",
       "       [1.00000000e+00],\n",
       "       [1.40535406e-09],\n",
       "       [6.13443866e-16],\n",
       "       [8.51345969e-28],\n",
       "       [1.00000000e+00],\n",
       "       [1.00000000e+00],\n",
       "       [1.00000000e+00],\n",
       "       [5.51414490e-02],\n",
       "       [4.00182605e-02],\n",
       "       [6.77276552e-01],\n",
       "       [0.00000000e+00],\n",
       "       [1.00000000e+00],\n",
       "       [1.00000000e+00],\n",
       "       [1.81737930e-01],\n",
       "       [1.00000000e+00],\n",
       "       [1.44669912e-06],\n",
       "       [1.69338133e-12],\n",
       "       [1.97236240e-01],\n",
       "       [1.00000000e+00],\n",
       "       [2.05785215e-01],\n",
       "       [5.77199459e-03],\n",
       "       [1.00000000e+00],\n",
       "       [6.01513982e-02],\n",
       "       [2.26676464e-04],\n",
       "       [1.00000000e+00],\n",
       "       [1.00000000e+00],\n",
       "       [3.46679376e-20],\n",
       "       [1.28731132e-03],\n",
       "       [2.40374476e-07],\n",
       "       [8.09635941e-13],\n",
       "       [4.00182605e-02],\n",
       "       [1.90977216e-01],\n",
       "       [9.83286738e-01],\n",
       "       [1.13445938e-01],\n",
       "       [3.91713232e-01],\n",
       "       [1.00000000e+00],\n",
       "       [1.00620866e-01],\n",
       "       [5.82635403e-04],\n",
       "       [3.26613784e-02],\n",
       "       [2.21272008e-25],\n",
       "       [2.23201641e-05],\n",
       "       [1.00000000e+00],\n",
       "       [1.16643310e-03],\n",
       "       [2.93630342e-09],\n",
       "       [0.00000000e+00],\n",
       "       [1.00000000e+00],\n",
       "       [1.32559031e-01],\n",
       "       [1.00000000e+00],\n",
       "       [4.74742055e-02],\n",
       "       [1.95521057e-01],\n",
       "       [1.00000000e+00],\n",
       "       [9.78946894e-15],\n",
       "       [1.00000000e+00],\n",
       "       [9.90957022e-01],\n",
       "       [1.00000000e+00],\n",
       "       [6.70820475e-04],\n",
       "       [2.87446096e-06],\n",
       "       [8.90407748e-09],\n",
       "       [9.97076035e-02],\n",
       "       [9.86062288e-01],\n",
       "       [9.94591713e-02],\n",
       "       [1.00000000e+00],\n",
       "       [7.54799247e-01],\n",
       "       [8.34499598e-02],\n",
       "       [1.00000000e+00],\n",
       "       [4.65561748e-02],\n",
       "       [8.34492445e-02],\n",
       "       [2.18985856e-01]], dtype=float32)"
      ]
     },
     "execution_count": 28,
     "metadata": {},
     "output_type": "execute_result"
    }
   ],
   "source": [
    "Y_pred"
   ]
  },
  {
   "cell_type": "code",
   "execution_count": 29,
   "metadata": {},
   "outputs": [],
   "source": [
    "A=[]\n",
    "for i in range(418):\n",
    "    A.append([int(i)])"
   ]
  },
  {
   "cell_type": "code",
   "execution_count": 30,
   "metadata": {},
   "outputs": [],
   "source": [
    "A=np.array(A)"
   ]
  },
  {
   "cell_type": "code",
   "execution_count": 31,
   "metadata": {},
   "outputs": [
    {
     "data": {
      "text/plain": [
       "(418, 1)"
      ]
     },
     "execution_count": 31,
     "metadata": {},
     "output_type": "execute_result"
    }
   ],
   "source": [
    "A.shape"
   ]
  },
  {
   "cell_type": "code",
   "execution_count": 32,
   "metadata": {},
   "outputs": [],
   "source": [
    "Ans=np.stack((A,Y_pred),axis=-1)"
   ]
  },
  {
   "cell_type": "code",
   "execution_count": 33,
   "metadata": {},
   "outputs": [],
   "source": [
    "np.save(\"text\",Ans)"
   ]
  }
 ],
 "metadata": {
  "kernelspec": {
   "display_name": "Python 3.7.13 ('ai_ml_nn')",
   "language": "python",
   "name": "python3"
  },
  "language_info": {
   "codemirror_mode": {
    "name": "ipython",
    "version": 3
   },
   "file_extension": ".py",
   "mimetype": "text/x-python",
   "name": "python",
   "nbconvert_exporter": "python",
   "pygments_lexer": "ipython3",
   "version": "3.7.13"
  },
  "orig_nbformat": 4,
  "vscode": {
   "interpreter": {
    "hash": "75f149aabefc45f596bad3ecd1cce999665dc47c609d2b6ed1c0c06088326543"
   }
  }
 },
 "nbformat": 4,
 "nbformat_minor": 2
}
